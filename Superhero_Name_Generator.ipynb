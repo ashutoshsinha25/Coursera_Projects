{
  "nbformat": 4,
  "nbformat_minor": 0,
  "metadata": {
    "colab": {
      "name": "Superhero Name Generator.ipynb",
      "provenance": [],
      "collapsed_sections": [],
      "authorship_tag": "ABX9TyNXPYvTMGyU/bOu9fd+BH5c",
      "include_colab_link": true
    },
    "kernelspec": {
      "name": "python3",
      "display_name": "Python 3"
    },
    "language_info": {
      "name": "python"
    },
    "accelerator": "GPU",
    "gpuClass": "standard"
  },
  "cells": [
    {
      "cell_type": "markdown",
      "metadata": {
        "id": "view-in-github",
        "colab_type": "text"
      },
      "source": [
        "<a href=\"https://colab.research.google.com/github/ashutoshsinha25/Coursera_Projects/blob/main/Superhero_Name_Generator.ipynb\" target=\"_parent\"><img src=\"https://colab.research.google.com/assets/colab-badge.svg\" alt=\"Open In Colab\"/></a>"
      ]
    },
    {
      "cell_type": "markdown",
      "source": [
        "### Superhero and Supervillain name generator"
      ],
      "metadata": {
        "id": "boRNhrKqinS0"
      }
    },
    {
      "cell_type": "markdown",
      "source": [
        "Data and Tokenizer\n",
        "1. Import the data\n",
        "2. Create a tokenizer\n",
        "3. Char to index and Index to char dictionaries"
      ],
      "metadata": {
        "id": "gp3Wo6d7lc3R"
      }
    },
    {
      "cell_type": "code",
      "execution_count": 1,
      "metadata": {
        "colab": {
          "base_uri": "https://localhost:8080/"
        },
        "id": "y4yTzOYBid_n",
        "outputId": "626c7352-bdfc-4809-e4df-2e25424d6271"
      },
      "outputs": [
        {
          "output_type": "stream",
          "name": "stdout",
          "text": [
            "Cloning into 'superhero'...\n",
            "remote: Enumerating objects: 8, done.\u001b[K\n",
            "remote: Counting objects: 100% (8/8), done.\u001b[K\n",
            "remote: Compressing objects: 100% (7/7), done.\u001b[K\n",
            "remote: Total 8 (delta 0), reused 4 (delta 0), pack-reused 0\u001b[K\n",
            "Unpacking objects: 100% (8/8), done.\n"
          ]
        }
      ],
      "source": [
        "!git clone https://github.com/am1tyadav/superhero"
      ]
    },
    {
      "cell_type": "code",
      "source": [
        "with open('/content/superhero/superheroes.txt' , 'r') as f:\n",
        "  data = f.read()\n",
        "\n",
        "data[:100]"
      ],
      "metadata": {
        "colab": {
          "base_uri": "https://localhost:8080/",
          "height": 35
        },
        "id": "XUWeb5qrjfVn",
        "outputId": "b94357de-4330-46b9-978d-0d930778a5c2"
      },
      "execution_count": 2,
      "outputs": [
        {
          "output_type": "execute_result",
          "data": {
            "text/plain": [
              "'jumpa\\t\\ndoctor fate\\t\\nstarlight\\t\\nisildur\\t\\nlasher\\t\\nvarvara\\t\\nthe target\\t\\naxel\\t\\nbattra\\t\\nchangeling\\t\\npyrrh'"
            ],
            "application/vnd.google.colaboratory.intrinsic+json": {
              "type": "string"
            }
          },
          "metadata": {},
          "execution_count": 2
        }
      ]
    },
    {
      "cell_type": "code",
      "source": [
        "import tensorflow as tf\n",
        "print(tf.__version__)"
      ],
      "metadata": {
        "colab": {
          "base_uri": "https://localhost:8080/"
        },
        "id": "E9ogat_zkXCq",
        "outputId": "b1b3695f-504b-4609-d695-59c875365c31"
      },
      "execution_count": 3,
      "outputs": [
        {
          "output_type": "stream",
          "name": "stdout",
          "text": [
            "2.8.2\n"
          ]
        }
      ]
    },
    {
      "cell_type": "code",
      "source": [
        "tokenizer = tf.keras.preprocessing.text.Tokenizer(\n",
        "    filters='!\"#$%&()*+,-./:;<=>?@[\\\\]^_`{|}~',\n",
        "    split='\\n',\n",
        ")"
      ],
      "metadata": {
        "id": "ITSd0fwekskw"
      },
      "execution_count": 4,
      "outputs": []
    },
    {
      "cell_type": "code",
      "source": [
        "tokenizer.fit_on_texts(data)"
      ],
      "metadata": {
        "id": "wBbKFE0uk52v"
      },
      "execution_count": 5,
      "outputs": []
    },
    {
      "cell_type": "code",
      "source": [
        "char_to_index = tokenizer.word_index\n",
        "index_to_char = dict((v , k) for k ,v in char_to_index.items())\n",
        "\n",
        "print(index_to_char)"
      ],
      "metadata": {
        "colab": {
          "base_uri": "https://localhost:8080/"
        },
        "id": "cqtD-BSbk_Or",
        "outputId": "d1f61bea-170c-400b-aefa-dd57a5613e94"
      },
      "execution_count": 6,
      "outputs": [
        {
          "output_type": "stream",
          "name": "stdout",
          "text": [
            "{1: '\\t', 2: 'a', 3: 'e', 4: 'r', 5: 'o', 6: 'n', 7: 'i', 8: ' ', 9: 't', 10: 's', 11: 'l', 12: 'm', 13: 'h', 14: 'd', 15: 'c', 16: 'u', 17: 'g', 18: 'k', 19: 'b', 20: 'p', 21: 'y', 22: 'w', 23: 'f', 24: 'v', 25: 'j', 26: 'z', 27: 'x', 28: 'q'}\n"
          ]
        }
      ]
    },
    {
      "cell_type": "markdown",
      "source": [
        "Names and Sequences\n",
        "1. Converting between names ans sequences"
      ],
      "metadata": {
        "id": "Nn-NmzpxlfDh"
      }
    },
    {
      "cell_type": "code",
      "source": [
        "names = data.splitlines()\n",
        "names[:10]"
      ],
      "metadata": {
        "colab": {
          "base_uri": "https://localhost:8080/"
        },
        "id": "GZ3zTMU7lRxB",
        "outputId": "7d13402b-e632-4e31-9b05-5bdf4e4e44af"
      },
      "execution_count": 7,
      "outputs": [
        {
          "output_type": "execute_result",
          "data": {
            "text/plain": [
              "['jumpa\\t',\n",
              " 'doctor fate\\t',\n",
              " 'starlight\\t',\n",
              " 'isildur\\t',\n",
              " 'lasher\\t',\n",
              " 'varvara\\t',\n",
              " 'the target\\t',\n",
              " 'axel\\t',\n",
              " 'battra\\t',\n",
              " 'changeling\\t']"
            ]
          },
          "metadata": {},
          "execution_count": 7
        }
      ]
    },
    {
      "cell_type": "code",
      "source": [
        "tokenizer.texts_to_sequences(names[0])"
      ],
      "metadata": {
        "colab": {
          "base_uri": "https://localhost:8080/"
        },
        "id": "LYcCHsWHlvkn",
        "outputId": "92d79cba-a19f-4a86-ec22-ec3adfd665ff"
      },
      "execution_count": 8,
      "outputs": [
        {
          "output_type": "execute_result",
          "data": {
            "text/plain": [
              "[[25], [16], [12], [20], [2], [1]]"
            ]
          },
          "metadata": {},
          "execution_count": 8
        }
      ]
    },
    {
      "cell_type": "code",
      "source": [
        "def name_to_seq(names):\n",
        "  return [tokenizer.texts_to_sequences(c)[0][0] for c in names ]"
      ],
      "metadata": {
        "id": "guyvALAdl548"
      },
      "execution_count": 9,
      "outputs": []
    },
    {
      "cell_type": "code",
      "source": [
        "name_to_seq(names[0])"
      ],
      "metadata": {
        "colab": {
          "base_uri": "https://localhost:8080/"
        },
        "id": "nOQt_vlgmJzI",
        "outputId": "7d716fc9-1e90-483d-a310-d297975185b3"
      },
      "execution_count": 10,
      "outputs": [
        {
          "output_type": "execute_result",
          "data": {
            "text/plain": [
              "[25, 16, 12, 20, 2, 1]"
            ]
          },
          "metadata": {},
          "execution_count": 10
        }
      ]
    },
    {
      "cell_type": "code",
      "source": [
        "def seq_to_name(seq):\n",
        "  return [''.join([index_to_char[i] for i in seq if i!=0])]"
      ],
      "metadata": {
        "id": "9gYWriLFmNA9"
      },
      "execution_count": 11,
      "outputs": []
    },
    {
      "cell_type": "code",
      "source": [
        "seq_to_name(name_to_seq(names[0]))"
      ],
      "metadata": {
        "colab": {
          "base_uri": "https://localhost:8080/"
        },
        "id": "9_x7UHIZmcSf",
        "outputId": "5e49740c-31ed-460e-bcf9-380b6bc49990"
      },
      "execution_count": 12,
      "outputs": [
        {
          "output_type": "execute_result",
          "data": {
            "text/plain": [
              "['jumpa\\t']"
            ]
          },
          "metadata": {},
          "execution_count": 12
        }
      ]
    },
    {
      "cell_type": "markdown",
      "source": [
        "Creating Examples\n",
        "1. Creating sequences\n",
        "2. adding all sequences"
      ],
      "metadata": {
        "id": "1SU8H8mHms3_"
      }
    },
    {
      "cell_type": "code",
      "source": [
        "sequences = []\n",
        "for name in names:\n",
        "  seq = name_to_seq(name)\n",
        "  if len(seq) >= 2:\n",
        "    sequences += [seq[:i] for i in range(2 , len(seq) + 1)]"
      ],
      "metadata": {
        "id": "b4gVnnYcmiWA"
      },
      "execution_count": 13,
      "outputs": []
    },
    {
      "cell_type": "code",
      "source": [
        "sequences[:10]"
      ],
      "metadata": {
        "colab": {
          "base_uri": "https://localhost:8080/"
        },
        "id": "D8uPrw_qnVh5",
        "outputId": "6fe105ce-22b8-45a6-d01b-b252be6245d9"
      },
      "execution_count": 14,
      "outputs": [
        {
          "output_type": "execute_result",
          "data": {
            "text/plain": [
              "[[25, 16],\n",
              " [25, 16, 12],\n",
              " [25, 16, 12, 20],\n",
              " [25, 16, 12, 20, 2],\n",
              " [25, 16, 12, 20, 2, 1],\n",
              " [14, 5],\n",
              " [14, 5, 15],\n",
              " [14, 5, 15, 9],\n",
              " [14, 5, 15, 9, 5],\n",
              " [14, 5, 15, 9, 5, 4]]"
            ]
          },
          "metadata": {},
          "execution_count": 14
        }
      ]
    },
    {
      "cell_type": "code",
      "source": [
        "max_len = max([len(x) for x in sequences])\n",
        "print(max_len)"
      ],
      "metadata": {
        "colab": {
          "base_uri": "https://localhost:8080/"
        },
        "id": "50umOkEFmzPQ",
        "outputId": "75b95551-514d-4506-d377-9b32bca5feec"
      },
      "execution_count": 15,
      "outputs": [
        {
          "output_type": "stream",
          "name": "stdout",
          "text": [
            "33\n"
          ]
        }
      ]
    },
    {
      "cell_type": "code",
      "source": [
        "padded_sequences = tf.keras.preprocessing.sequence.pad_sequences(\n",
        "    sequences , padding = 'pre', maxlen = max_len\n",
        ")\n",
        "\n",
        "print(padded_sequences[0])"
      ],
      "metadata": {
        "colab": {
          "base_uri": "https://localhost:8080/"
        },
        "id": "fRfMP2RIn9PV",
        "outputId": "b69b3ab9-994d-4215-cf61-7b8aff6589e7"
      },
      "execution_count": 16,
      "outputs": [
        {
          "output_type": "stream",
          "name": "stdout",
          "text": [
            "[ 0  0  0  0  0  0  0  0  0  0  0  0  0  0  0  0  0  0  0  0  0  0  0  0\n",
            "  0  0  0  0  0  0  0 25 16]\n"
          ]
        }
      ]
    },
    {
      "cell_type": "code",
      "source": [
        "padded_sequences.shape"
      ],
      "metadata": {
        "colab": {
          "base_uri": "https://localhost:8080/"
        },
        "id": "CY-a0Q3jos3i",
        "outputId": "e57f00df-a22b-42ff-b643-0ff6d208e306"
      },
      "execution_count": 17,
      "outputs": [
        {
          "output_type": "execute_result",
          "data": {
            "text/plain": [
              "(88279, 33)"
            ]
          },
          "metadata": {},
          "execution_count": 17
        }
      ]
    },
    {
      "cell_type": "markdown",
      "source": [
        "Training and Validation set\n",
        "1. Creating training and validation set"
      ],
      "metadata": {
        "id": "eY775hiio82L"
      }
    },
    {
      "cell_type": "code",
      "source": [
        "x , y = padded_sequences[: , :-1] , padded_sequences[: , -1]\n",
        "print(x.shape , y.shape)"
      ],
      "metadata": {
        "colab": {
          "base_uri": "https://localhost:8080/"
        },
        "id": "fpHAHXejo8NH",
        "outputId": "4760a0a5-8b64-4832-e8be-ba81c02610fb"
      },
      "execution_count": 18,
      "outputs": [
        {
          "output_type": "stream",
          "name": "stdout",
          "text": [
            "(88279, 32) (88279,)\n"
          ]
        }
      ]
    },
    {
      "cell_type": "code",
      "source": [
        "from sklearn.model_selection import train_test_split\n",
        "\n",
        "X_train , X_test , y_train , y_test = train_test_split(x , y)\n",
        "\n",
        "\n",
        "print(X_train.shape , X_test.shape)\n",
        "print(y_train.shape , y_test.shape)"
      ],
      "metadata": {
        "colab": {
          "base_uri": "https://localhost:8080/"
        },
        "id": "qVoz0Hm4o6SU",
        "outputId": "10866cba-e636-443c-e722-cc3f37098ab8"
      },
      "execution_count": 19,
      "outputs": [
        {
          "output_type": "stream",
          "name": "stdout",
          "text": [
            "(66209, 32) (22070, 32)\n",
            "(66209,) (22070,)\n"
          ]
        }
      ]
    },
    {
      "cell_type": "code",
      "source": [
        "num_chars = len(char_to_index.keys()) + 1\n",
        "print(num_chars)"
      ],
      "metadata": {
        "colab": {
          "base_uri": "https://localhost:8080/"
        },
        "id": "aUwcNxDvpaPD",
        "outputId": "64e22ac9-492b-4b67-c521-19acc7f44719"
      },
      "execution_count": 20,
      "outputs": [
        {
          "output_type": "stream",
          "name": "stdout",
          "text": [
            "29\n"
          ]
        }
      ]
    },
    {
      "cell_type": "markdown",
      "source": [
        "Creating a model"
      ],
      "metadata": {
        "id": "2YqHxZUfp_Ct"
      }
    },
    {
      "cell_type": "code",
      "source": [
        "import tensorflow as tf\n",
        "from tensorflow.keras.models import Sequential\n",
        "from tensorflow.keras.layers import Embedding , Conv1D , MaxPool1D , LSTM\n",
        "from tensorflow.keras.layers import Bidirectional  , Dense "
      ],
      "metadata": {
        "id": "jPDin11qpo0D"
      },
      "execution_count": 21,
      "outputs": []
    },
    {
      "cell_type": "code",
      "source": [
        "model = Sequential([\n",
        "               Embedding(num_chars , 8 , input_length = max_len-1),\n",
        "               Conv1D(64, 5 , strides = 1 , activation ='tanh', padding ='causal'),\n",
        "               MaxPool1D(2),\n",
        "               LSTM(32),\n",
        "               Dense(num_chars , activation = 'softmax')   \n",
        "])\n",
        "\n",
        "\n",
        "model.compile(loss = 'sparse_categorical_crossentropy',\n",
        "              optimizer = 'adam',\n",
        "              metrics = ['accuracy'])\n",
        "\n",
        "model.summary()"
      ],
      "metadata": {
        "colab": {
          "base_uri": "https://localhost:8080/"
        },
        "id": "JPe5zet8pnK8",
        "outputId": "a4779123-2736-49ac-d638-b739f32c4754"
      },
      "execution_count": 22,
      "outputs": [
        {
          "output_type": "stream",
          "name": "stdout",
          "text": [
            "Model: \"sequential\"\n",
            "_________________________________________________________________\n",
            " Layer (type)                Output Shape              Param #   \n",
            "=================================================================\n",
            " embedding (Embedding)       (None, 32, 8)             232       \n",
            "                                                                 \n",
            " conv1d (Conv1D)             (None, 32, 64)            2624      \n",
            "                                                                 \n",
            " max_pooling1d (MaxPooling1D  (None, 16, 64)           0         \n",
            " )                                                               \n",
            "                                                                 \n",
            " lstm (LSTM)                 (None, 32)                12416     \n",
            "                                                                 \n",
            " dense (Dense)               (None, 29)                957       \n",
            "                                                                 \n",
            "=================================================================\n",
            "Total params: 16,229\n",
            "Trainable params: 16,229\n",
            "Non-trainable params: 0\n",
            "_________________________________________________________________\n"
          ]
        }
      ]
    },
    {
      "cell_type": "markdown",
      "source": [
        "Training the model"
      ],
      "metadata": {
        "id": "wMrNHnAntbrm"
      }
    },
    {
      "cell_type": "code",
      "source": [
        "history = model.fit(X_train , y_train,\n",
        "                    validation_data = (X_test , y_test),\n",
        "                    epochs = 50,\n",
        "                    verbose = 2,\n",
        "                    callbacks = [tf.keras.callbacks.EarlyStopping(monitor = 'val_accuracy' , patience = 3)])"
      ],
      "metadata": {
        "colab": {
          "base_uri": "https://localhost:8080/"
        },
        "id": "5HmIRf0ttQ6A",
        "outputId": "bc601717-1847-4b63-ae7e-a908b39f5351"
      },
      "execution_count": 23,
      "outputs": [
        {
          "output_type": "stream",
          "name": "stdout",
          "text": [
            "Epoch 1/50\n",
            "2070/2070 - 29s - loss: 2.7617 - accuracy: 0.1863 - val_loss: 2.5683 - val_accuracy: 0.2347 - 29s/epoch - 14ms/step\n",
            "Epoch 2/50\n",
            "2070/2070 - 11s - loss: 2.5297 - accuracy: 0.2402 - val_loss: 2.4839 - val_accuracy: 0.2561 - 11s/epoch - 5ms/step\n",
            "Epoch 3/50\n",
            "2070/2070 - 10s - loss: 2.4606 - accuracy: 0.2598 - val_loss: 2.4328 - val_accuracy: 0.2743 - 10s/epoch - 5ms/step\n",
            "Epoch 4/50\n",
            "2070/2070 - 10s - loss: 2.4117 - accuracy: 0.2741 - val_loss: 2.3981 - val_accuracy: 0.2788 - 10s/epoch - 5ms/step\n",
            "Epoch 5/50\n",
            "2070/2070 - 10s - loss: 2.3739 - accuracy: 0.2839 - val_loss: 2.3675 - val_accuracy: 0.2902 - 10s/epoch - 5ms/step\n",
            "Epoch 6/50\n",
            "2070/2070 - 11s - loss: 2.3412 - accuracy: 0.2937 - val_loss: 2.3444 - val_accuracy: 0.2936 - 11s/epoch - 5ms/step\n",
            "Epoch 7/50\n",
            "2070/2070 - 10s - loss: 2.3130 - accuracy: 0.3014 - val_loss: 2.3241 - val_accuracy: 0.3005 - 10s/epoch - 5ms/step\n",
            "Epoch 8/50\n",
            "2070/2070 - 12s - loss: 2.2869 - accuracy: 0.3081 - val_loss: 2.3052 - val_accuracy: 0.3075 - 12s/epoch - 6ms/step\n",
            "Epoch 9/50\n",
            "2070/2070 - 10s - loss: 2.2635 - accuracy: 0.3157 - val_loss: 2.2924 - val_accuracy: 0.3166 - 10s/epoch - 5ms/step\n",
            "Epoch 10/50\n",
            "2070/2070 - 11s - loss: 2.2416 - accuracy: 0.3229 - val_loss: 2.2781 - val_accuracy: 0.3144 - 11s/epoch - 5ms/step\n",
            "Epoch 11/50\n",
            "2070/2070 - 11s - loss: 2.2221 - accuracy: 0.3299 - val_loss: 2.2643 - val_accuracy: 0.3238 - 11s/epoch - 6ms/step\n",
            "Epoch 12/50\n",
            "2070/2070 - 11s - loss: 2.2027 - accuracy: 0.3361 - val_loss: 2.2567 - val_accuracy: 0.3245 - 11s/epoch - 6ms/step\n",
            "Epoch 13/50\n",
            "2070/2070 - 11s - loss: 2.1854 - accuracy: 0.3427 - val_loss: 2.2490 - val_accuracy: 0.3306 - 11s/epoch - 6ms/step\n",
            "Epoch 14/50\n",
            "2070/2070 - 11s - loss: 2.1706 - accuracy: 0.3471 - val_loss: 2.2413 - val_accuracy: 0.3341 - 11s/epoch - 6ms/step\n",
            "Epoch 15/50\n",
            "2070/2070 - 11s - loss: 2.1549 - accuracy: 0.3525 - val_loss: 2.2342 - val_accuracy: 0.3342 - 11s/epoch - 5ms/step\n",
            "Epoch 16/50\n",
            "2070/2070 - 10s - loss: 2.1410 - accuracy: 0.3573 - val_loss: 2.2237 - val_accuracy: 0.3389 - 10s/epoch - 5ms/step\n",
            "Epoch 17/50\n",
            "2070/2070 - 10s - loss: 2.1278 - accuracy: 0.3612 - val_loss: 2.2219 - val_accuracy: 0.3426 - 10s/epoch - 5ms/step\n",
            "Epoch 18/50\n",
            "2070/2070 - 10s - loss: 2.1155 - accuracy: 0.3651 - val_loss: 2.2189 - val_accuracy: 0.3404 - 10s/epoch - 5ms/step\n",
            "Epoch 19/50\n",
            "2070/2070 - 11s - loss: 2.1044 - accuracy: 0.3683 - val_loss: 2.2148 - val_accuracy: 0.3430 - 11s/epoch - 5ms/step\n",
            "Epoch 20/50\n",
            "2070/2070 - 11s - loss: 2.0945 - accuracy: 0.3720 - val_loss: 2.2089 - val_accuracy: 0.3456 - 11s/epoch - 5ms/step\n",
            "Epoch 21/50\n",
            "2070/2070 - 11s - loss: 2.0833 - accuracy: 0.3748 - val_loss: 2.2110 - val_accuracy: 0.3478 - 11s/epoch - 6ms/step\n",
            "Epoch 22/50\n",
            "2070/2070 - 11s - loss: 2.0741 - accuracy: 0.3783 - val_loss: 2.2022 - val_accuracy: 0.3506 - 11s/epoch - 5ms/step\n",
            "Epoch 23/50\n",
            "2070/2070 - 11s - loss: 2.0656 - accuracy: 0.3808 - val_loss: 2.2023 - val_accuracy: 0.3488 - 11s/epoch - 6ms/step\n",
            "Epoch 24/50\n",
            "2070/2070 - 11s - loss: 2.0577 - accuracy: 0.3820 - val_loss: 2.1984 - val_accuracy: 0.3498 - 11s/epoch - 5ms/step\n",
            "Epoch 25/50\n",
            "2070/2070 - 10s - loss: 2.0485 - accuracy: 0.3862 - val_loss: 2.2002 - val_accuracy: 0.3517 - 10s/epoch - 5ms/step\n",
            "Epoch 26/50\n",
            "2070/2070 - 10s - loss: 2.0422 - accuracy: 0.3870 - val_loss: 2.1975 - val_accuracy: 0.3546 - 10s/epoch - 5ms/step\n",
            "Epoch 27/50\n",
            "2070/2070 - 11s - loss: 2.0350 - accuracy: 0.3899 - val_loss: 2.1946 - val_accuracy: 0.3589 - 11s/epoch - 6ms/step\n",
            "Epoch 28/50\n",
            "2070/2070 - 11s - loss: 2.0282 - accuracy: 0.3907 - val_loss: 2.1968 - val_accuracy: 0.3560 - 11s/epoch - 5ms/step\n",
            "Epoch 29/50\n",
            "2070/2070 - 11s - loss: 2.0211 - accuracy: 0.3931 - val_loss: 2.1962 - val_accuracy: 0.3566 - 11s/epoch - 5ms/step\n",
            "Epoch 30/50\n",
            "2070/2070 - 11s - loss: 2.0148 - accuracy: 0.3962 - val_loss: 2.1945 - val_accuracy: 0.3571 - 11s/epoch - 6ms/step\n"
          ]
        }
      ]
    },
    {
      "cell_type": "code",
      "source": [
        "import matplotlib.pyplot as plt \n",
        "%matplotlib inline\n",
        "epochs_ran = len(history.history['loss'])\n",
        "\n",
        "plt.plot(range(0 , epochs_ran) , history.history['val_accuracy'] , label = 'validation')\n",
        "plt.plot(range(0 , epochs_ran) , history.history['accuracy'] , label = 'training')\n",
        "plt.show()"
      ],
      "metadata": {
        "colab": {
          "base_uri": "https://localhost:8080/",
          "height": 265
        },
        "id": "1hI5_V22t-7z",
        "outputId": "1862ff11-87f4-431f-aafc-84cb992e88bc"
      },
      "execution_count": 27,
      "outputs": [
        {
          "output_type": "display_data",
          "data": {
            "text/plain": [
              "<Figure size 432x288 with 1 Axes>"
            ],
            "image/png": "[encoded data removed]"
          },
          "metadata": {
            "needs_background": "light"
          }
        }
      ]
    },
    {
      "cell_type": "markdown",
      "source": [
        "Generating names"
      ],
      "metadata": {
        "id": "Giu2op4at6yi"
      }
    },
    {
      "cell_type": "code",
      "source": [
        "def generate_names(seed):\n",
        "  for i in range(0 , 40):\n",
        "    seq = name_to_seq(seed)\n",
        "    padded = tf.keras.preprocessing.sequence.pad_sequences([seq] , \n",
        "                                                          padding = 'pre' ,\n",
        "                                                          maxlen = max_len - 1,\n",
        "                                                          truncating = 'pre')\n",
        "    \n",
        "    pred = model.predict(padded)[0]\n",
        "    pred_char = index_to_char[tf.argmax(pred).numpy()]\n",
        "    seed += pred_char\n",
        "\n",
        "    if pred_char == '\\t':\n",
        "      break\n",
        "  print(seed)"
      ],
      "metadata": {
        "id": "72oMqCFQtwMW"
      },
      "execution_count": 30,
      "outputs": []
    },
    {
      "cell_type": "code",
      "source": [
        "generate_names('z')"
      ],
      "metadata": {
        "colab": {
          "base_uri": "https://localhost:8080/"
        },
        "id": "O8b92qDjxFwA",
        "outputId": "bb4069df-7dfd-4aa9-a766-d2db8954a0f5"
      },
      "execution_count": 33,
      "outputs": [
        {
          "output_type": "stream",
          "name": "stdout",
          "text": [
            "zark\t\n"
          ]
        }
      ]
    },
    {
      "cell_type": "code",
      "source": [
        ""
      ],
      "metadata": {
        "id": "iZ86OJZIxHnu"
      },
      "execution_count": null,
      "outputs": []
    }
  ]
}